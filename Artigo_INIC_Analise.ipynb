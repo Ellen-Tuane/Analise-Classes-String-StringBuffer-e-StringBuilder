{
  "nbformat": 4,
  "nbformat_minor": 0,
  "metadata": {
    "colab": {
      "name": "Artigo_INIC_Analise.ipynb",
      "provenance": [],
      "authorship_tag": "ABX9TyPbxWdthVfT+Sl55snTTRyY",
      "include_colab_link": true
    },
    "kernelspec": {
      "name": "python3",
      "display_name": "Python 3"
    },
    "language_info": {
      "name": "python"
    }
  },
  "cells": [
    {
      "cell_type": "markdown",
      "metadata": {
        "id": "view-in-github",
        "colab_type": "text"
      },
      "source": [
        "<a href=\"https://colab.research.google.com/github/Ellen-Tuane/artigo_inic/blob/main/Artigo_INIC_Analise.ipynb\" target=\"_parent\"><img src=\"https://colab.research.google.com/assets/colab-badge.svg\" alt=\"Open In Colab\"/></a>"
      ]
    },
    {
      "cell_type": "code",
      "execution_count": 43,
      "metadata": {
        "id": "R3qhO0NMIc2J"
      },
      "outputs": [],
      "source": [
        "import pandas as pd\n",
        "import plotly.express as px"
      ]
    },
    {
      "cell_type": "code",
      "source": [
        "df = pd.read_csv('/content/Concatenacao.csv')"
      ],
      "metadata": {
        "id": "Cd1QeiaXI--N"
      },
      "execution_count": 44,
      "outputs": []
    },
    {
      "cell_type": "code",
      "source": [
        "for i in df.columns:\n",
        "    print(i)"
      ],
      "metadata": {
        "colab": {
          "base_uri": "https://localhost:8080/"
        },
        "id": "7RcdfdSWLShv",
        "outputId": "8642d878-8f3e-4e68-c7db-e316cb2d26ce"
      },
      "execution_count": 45,
      "outputs": [
        {
          "output_type": "stream",
          "name": "stdout",
          "text": [
            "concat_qdt\n",
            " String_tipo\n",
            " tempo\n",
            " letras_qtd\n"
          ]
        }
      ]
    },
    {
      "cell_type": "code",
      "source": [
        "df.rename(columns={'concat_qdt': 'interações', ' String_tipo': 'Classe', ' tempo':'tempo (minutos)', ' letras_qtd':'Bytes'}, inplace=True)\n"
      ],
      "metadata": {
        "id": "6vJkGjesB--7"
      },
      "execution_count": 46,
      "outputs": []
    },
    {
      "cell_type": "code",
      "source": [
        "df[\"tempo (minutos)\"] = ((df[\"tempo (minutos)\"]/ (1000*60)) % 60)"
      ],
      "metadata": {
        "id": "UnU8ub4aPjG3"
      },
      "execution_count": 47,
      "outputs": []
    },
    {
      "cell_type": "code",
      "source": [
        "fig = px.bar(df, x='interações', y='tempo (minutos)',color='Classe', barmode='group', facet_col='Bytes', title=\"Tempo de Execução de Concatenação por Quantidade de Bytes entre as Classes String, StringBuffer e StringBuilder\")\n",
        "fig.show()"
      ],
      "metadata": {
        "colab": {
          "base_uri": "https://localhost:8080/",
          "height": 542
        },
        "id": "ZlbTCV3sYjGr",
        "outputId": "2b9fb97d-0476-466a-c8d8-1c36af5bffb2"
      },
      "execution_count": 48,
      "outputs": [
        {
          "output_type": "display_data",
          "data": {
            "text/html": [
              "<html>\n",
              "<head><meta charset=\"utf-8\" /></head>\n",
              "<body>\n",
              "    <div>            <script src=\"https://cdnjs.cloudflare.com/ajax/libs/mathjax/2.7.5/MathJax.js?config=TeX-AMS-MML_SVG\"></script><script type=\"text/javascript\">if (window.MathJax) {MathJax.Hub.Config({SVG: {font: \"STIX-Web\"}});}</script>                <script type=\"text/javascript\">window.PlotlyConfig = {MathJaxConfig: 'local'};</script>\n",
              "        <script src=\"https://cdn.plot.ly/plotly-2.8.3.min.js\"></script>                <div id=\"8b9d0500-b779-4dc1-9ab4-60f1de73781f\" class=\"plotly-graph-div\" style=\"height:525px; width:100%;\"></div>            <script type=\"text/javascript\">                                    window.PLOTLYENV=window.PLOTLYENV || {};                                    if (document.getElementById(\"8b9d0500-b779-4dc1-9ab4-60f1de73781f\")) {                    Plotly.newPlot(                        \"8b9d0500-b779-4dc1-9ab4-60f1de73781f\",                        [{\"alignmentgroup\":\"True\",\"hovertemplate\":\"Classe=String<br>Bytes=1<br>intera\\u00e7\\u00f5es=%{x}<br>tempo (minutos)=%{y}<extra></extra>\",\"legendgroup\":\"String\",\"marker\":{\"color\":\"#636efa\",\"pattern\":{\"shape\":\"\"}},\"name\":\"String\",\"offsetgroup\":\"String\",\"orientation\":\"v\",\"showlegend\":true,\"textposition\":\"auto\",\"x\":[100000,200000,300000,400000,500000,600000,800000,700000,1000000,900000],\"xaxis\":\"x\",\"y\":[0.01845,0.06065,0.13881666666666667,0.24288333333333334,0.39185,0.5914166666666667,1.13935,0.8453833333333334,1.7967833333333334,2.2637],\"yaxis\":\"y\",\"type\":\"bar\"},{\"alignmentgroup\":\"True\",\"hovertemplate\":\"Classe=String<br>Bytes=2<br>intera\\u00e7\\u00f5es=%{x}<br>tempo (minutos)=%{y}<extra></extra>\",\"legendgroup\":\"String\",\"marker\":{\"color\":\"#636efa\",\"pattern\":{\"shape\":\"\"}},\"name\":\"String\",\"offsetgroup\":\"String\",\"orientation\":\"v\",\"showlegend\":false,\"textposition\":\"auto\",\"x\":[100000,200000,300000,400000,500000,600000,700000,800000,900000,1000000],\"xaxis\":\"x2\",\"y\":[0.041883333333333335,0.12965,0.29318333333333335,0.5557,0.9141666666666667,1.3494833333333334,1.8567666666666667,2.4516,3.1117833333333333,3.8709333333333333],\"yaxis\":\"y2\",\"type\":\"bar\"},{\"alignmentgroup\":\"True\",\"hovertemplate\":\"Classe=String<br>Bytes=3<br>intera\\u00e7\\u00f5es=%{x}<br>tempo (minutos)=%{y}<extra></extra>\",\"legendgroup\":\"String\",\"marker\":{\"color\":\"#636efa\",\"pattern\":{\"shape\":\"\"}},\"name\":\"String\",\"offsetgroup\":\"String\",\"orientation\":\"v\",\"showlegend\":false,\"textposition\":\"auto\",\"x\":[100000,200000,300000,400000,500000,600000,700000,800000,900000,1000000],\"xaxis\":\"x3\",\"y\":[0.08551666666666667,0.3284,0.7639333333333334,1.3888666666666667,2.2085333333333335,3.199516666666667,4.3609333333333336,5.686383333333334,7.1832666666666665,6.13855],\"yaxis\":\"y3\",\"type\":\"bar\"},{\"alignmentgroup\":\"True\",\"hovertemplate\":\"Classe=String<br>Bytes=4<br>intera\\u00e7\\u00f5es=%{x}<br>tempo (minutos)=%{y}<extra></extra>\",\"legendgroup\":\"String\",\"marker\":{\"color\":\"#636efa\",\"pattern\":{\"shape\":\"\"}},\"name\":\"String\",\"offsetgroup\":\"String\",\"orientation\":\"v\",\"showlegend\":false,\"textposition\":\"auto\",\"x\":[100000,200000,300000,400000,500000,600000,700000,800000,900000,1000000],\"xaxis\":\"x4\",\"y\":[0.10476666666666666,0.43445,0.83145,1.5114,2.536383333333333,3.8312666666666666,8.337233333333334,4.9031,6.333966666666667,7.94625],\"yaxis\":\"y4\",\"type\":\"bar\"},{\"alignmentgroup\":\"True\",\"hovertemplate\":\"Classe=StringBuilder<br>Bytes=1<br>intera\\u00e7\\u00f5es=%{x}<br>tempo (minutos)=%{y}<extra></extra>\",\"legendgroup\":\"StringBuilder\",\"marker\":{\"color\":\"#EF553B\",\"pattern\":{\"shape\":\"\"}},\"name\":\"StringBuilder\",\"offsetgroup\":\"StringBuilder\",\"orientation\":\"v\",\"showlegend\":true,\"textposition\":\"auto\",\"x\":[100000,200000,300000,400000,500000,600000,800000,700000,1000000,900000],\"xaxis\":\"x\",\"y\":[3.3333333333333335e-05,6.666666666666667e-05,0.00011666666666666667,0.00011666666666666667,0.00016666666666666666,0.00016666666666666666,0.00023333333333333333,0.0002,0.00025,0.0006],\"yaxis\":\"y\",\"type\":\"bar\"},{\"alignmentgroup\":\"True\",\"hovertemplate\":\"Classe=StringBuilder<br>Bytes=2<br>intera\\u00e7\\u00f5es=%{x}<br>tempo (minutos)=%{y}<extra></extra>\",\"legendgroup\":\"StringBuilder\",\"marker\":{\"color\":\"#EF553B\",\"pattern\":{\"shape\":\"\"}},\"name\":\"StringBuilder\",\"offsetgroup\":\"StringBuilder\",\"orientation\":\"v\",\"showlegend\":false,\"textposition\":\"auto\",\"x\":[100000,200000,300000,400000,500000,600000,700000,800000,900000,1000000],\"xaxis\":\"x2\",\"y\":[1.6666666666666667e-05,6.666666666666667e-05,0.0001,0.00011666666666666667,0.00016666666666666666,0.0003,0.0002,0.00021666666666666666,0.00021666666666666666,0.00028333333333333335],\"yaxis\":\"y2\",\"type\":\"bar\"},{\"alignmentgroup\":\"True\",\"hovertemplate\":\"Classe=StringBuilder<br>Bytes=3<br>intera\\u00e7\\u00f5es=%{x}<br>tempo (minutos)=%{y}<extra></extra>\",\"legendgroup\":\"StringBuilder\",\"marker\":{\"color\":\"#EF553B\",\"pattern\":{\"shape\":\"\"}},\"name\":\"StringBuilder\",\"offsetgroup\":\"StringBuilder\",\"orientation\":\"v\",\"showlegend\":false,\"textposition\":\"auto\",\"x\":[100000,200000,300000,400000,500000,600000,700000,800000,900000,1000000],\"xaxis\":\"x3\",\"y\":[5e-05,0.0002,0.00025,0.00025,0.00031666666666666665,0.0003333333333333333,0.00038333333333333334,0.0005333333333333334,0.00045,0.0002666666666666667],\"yaxis\":\"y3\",\"type\":\"bar\"},{\"alignmentgroup\":\"True\",\"hovertemplate\":\"Classe=StringBuilder<br>Bytes=4<br>intera\\u00e7\\u00f5es=%{x}<br>tempo (minutos)=%{y}<extra></extra>\",\"legendgroup\":\"StringBuilder\",\"marker\":{\"color\":\"#EF553B\",\"pattern\":{\"shape\":\"\"}},\"name\":\"StringBuilder\",\"offsetgroup\":\"StringBuilder\",\"orientation\":\"v\",\"showlegend\":false,\"textposition\":\"auto\",\"x\":[100000,200000,300000,400000,500000,600000,700000,800000,900000,1000000],\"xaxis\":\"x4\",\"y\":[3.3333333333333335e-05,8.333333333333333e-05,0.00011666666666666667,0.00013333333333333334,0.00015,0.0005166666666666667,0.00046666666666666666,0.00021666666666666666,0.00023333333333333333,0.00025],\"yaxis\":\"y4\",\"type\":\"bar\"},{\"alignmentgroup\":\"True\",\"hovertemplate\":\"Classe=StringBuffer<br>Bytes=1<br>intera\\u00e7\\u00f5es=%{x}<br>tempo (minutos)=%{y}<extra></extra>\",\"legendgroup\":\"StringBuffer\",\"marker\":{\"color\":\"#00cc96\",\"pattern\":{\"shape\":\"\"}},\"name\":\"StringBuffer\",\"offsetgroup\":\"StringBuffer\",\"orientation\":\"v\",\"showlegend\":true,\"textposition\":\"auto\",\"x\":[100000,200000,300000,400000,500000,600000,800000,700000,1000000,900000],\"xaxis\":\"x\",\"y\":[5e-05,5e-05,0.00016666666666666666,0.0001,0.00013333333333333334,0.00016666666666666666,0.0002,0.00015,0.00023333333333333333,0.00046666666666666666],\"yaxis\":\"y\",\"type\":\"bar\"},{\"alignmentgroup\":\"True\",\"hovertemplate\":\"Classe=StringBuffer<br>Bytes=2<br>intera\\u00e7\\u00f5es=%{x}<br>tempo (minutos)=%{y}<extra></extra>\",\"legendgroup\":\"StringBuffer\",\"marker\":{\"color\":\"#00cc96\",\"pattern\":{\"shape\":\"\"}},\"name\":\"StringBuffer\",\"offsetgroup\":\"StringBuffer\",\"orientation\":\"v\",\"showlegend\":false,\"textposition\":\"auto\",\"x\":[100000,200000,300000,400000,500000,600000,700000,800000,900000,1000000],\"xaxis\":\"x2\",\"y\":[3.3333333333333335e-05,5e-05,0.0001,0.00011666666666666667,0.00013333333333333334,0.00025,0.00015,0.0002,0.00023333333333333333,0.00023333333333333333],\"yaxis\":\"y2\",\"type\":\"bar\"},{\"alignmentgroup\":\"True\",\"hovertemplate\":\"Classe=StringBuffer<br>Bytes=3<br>intera\\u00e7\\u00f5es=%{x}<br>tempo (minutos)=%{y}<extra></extra>\",\"legendgroup\":\"StringBuffer\",\"marker\":{\"color\":\"#00cc96\",\"pattern\":{\"shape\":\"\"}},\"name\":\"StringBuffer\",\"offsetgroup\":\"StringBuffer\",\"orientation\":\"v\",\"showlegend\":false,\"textposition\":\"auto\",\"x\":[100000,200000,300000,400000,500000,600000,700000,800000,900000,1000000],\"xaxis\":\"x3\",\"y\":[8.333333333333333e-05,0.00023333333333333333,0.00018333333333333334,0.00025,0.00035,0.0003333333333333333,0.0003333333333333333,0.00048333333333333334,0.00048333333333333334,0.0006166666666666666],\"yaxis\":\"y3\",\"type\":\"bar\"},{\"alignmentgroup\":\"True\",\"hovertemplate\":\"Classe=StringBuffer<br>Bytes=4<br>intera\\u00e7\\u00f5es=%{x}<br>tempo (minutos)=%{y}<extra></extra>\",\"legendgroup\":\"StringBuffer\",\"marker\":{\"color\":\"#00cc96\",\"pattern\":{\"shape\":\"\"}},\"name\":\"StringBuffer\",\"offsetgroup\":\"StringBuffer\",\"orientation\":\"v\",\"showlegend\":false,\"textposition\":\"auto\",\"x\":[100000,200000,300000,400000,500000,600000,700000,800000,900000,1000000],\"xaxis\":\"x4\",\"y\":[3.3333333333333335e-05,0.0003333333333333333,0.0001,0.0004166666666666667,0.00015,0.0002666666666666667,0.00035,0.0002666666666666667,0.00021666666666666666,0.00023333333333333333],\"yaxis\":\"y4\",\"type\":\"bar\"}],                        {\"template\":{\"data\":{\"bar\":[{\"error_x\":{\"color\":\"#2a3f5f\"},\"error_y\":{\"color\":\"#2a3f5f\"},\"marker\":{\"line\":{\"color\":\"#E5ECF6\",\"width\":0.5},\"pattern\":{\"fillmode\":\"overlay\",\"size\":10,\"solidity\":0.2}},\"type\":\"bar\"}],\"barpolar\":[{\"marker\":{\"line\":{\"color\":\"#E5ECF6\",\"width\":0.5},\"pattern\":{\"fillmode\":\"overlay\",\"size\":10,\"solidity\":0.2}},\"type\":\"barpolar\"}],\"carpet\":[{\"aaxis\":{\"endlinecolor\":\"#2a3f5f\",\"gridcolor\":\"white\",\"linecolor\":\"white\",\"minorgridcolor\":\"white\",\"startlinecolor\":\"#2a3f5f\"},\"baxis\":{\"endlinecolor\":\"#2a3f5f\",\"gridcolor\":\"white\",\"linecolor\":\"white\",\"minorgridcolor\":\"white\",\"startlinecolor\":\"#2a3f5f\"},\"type\":\"carpet\"}],\"choropleth\":[{\"colorbar\":{\"outlinewidth\":0,\"ticks\":\"\"},\"type\":\"choropleth\"}],\"contour\":[{\"colorbar\":{\"outlinewidth\":0,\"ticks\":\"\"},\"colorscale\":[[0.0,\"#0d0887\"],[0.1111111111111111,\"#46039f\"],[0.2222222222222222,\"#7201a8\"],[0.3333333333333333,\"#9c179e\"],[0.4444444444444444,\"#bd3786\"],[0.5555555555555556,\"#d8576b\"],[0.6666666666666666,\"#ed7953\"],[0.7777777777777778,\"#fb9f3a\"],[0.8888888888888888,\"#fdca26\"],[1.0,\"#f0f921\"]],\"type\":\"contour\"}],\"contourcarpet\":[{\"colorbar\":{\"outlinewidth\":0,\"ticks\":\"\"},\"type\":\"contourcarpet\"}],\"heatmap\":[{\"colorbar\":{\"outlinewidth\":0,\"ticks\":\"\"},\"colorscale\":[[0.0,\"#0d0887\"],[0.1111111111111111,\"#46039f\"],[0.2222222222222222,\"#7201a8\"],[0.3333333333333333,\"#9c179e\"],[0.4444444444444444,\"#bd3786\"],[0.5555555555555556,\"#d8576b\"],[0.6666666666666666,\"#ed7953\"],[0.7777777777777778,\"#fb9f3a\"],[0.8888888888888888,\"#fdca26\"],[1.0,\"#f0f921\"]],\"type\":\"heatmap\"}],\"heatmapgl\":[{\"colorbar\":{\"outlinewidth\":0,\"ticks\":\"\"},\"colorscale\":[[0.0,\"#0d0887\"],[0.1111111111111111,\"#46039f\"],[0.2222222222222222,\"#7201a8\"],[0.3333333333333333,\"#9c179e\"],[0.4444444444444444,\"#bd3786\"],[0.5555555555555556,\"#d8576b\"],[0.6666666666666666,\"#ed7953\"],[0.7777777777777778,\"#fb9f3a\"],[0.8888888888888888,\"#fdca26\"],[1.0,\"#f0f921\"]],\"type\":\"heatmapgl\"}],\"histogram\":[{\"marker\":{\"pattern\":{\"fillmode\":\"overlay\",\"size\":10,\"solidity\":0.2}},\"type\":\"histogram\"}],\"histogram2d\":[{\"colorbar\":{\"outlinewidth\":0,\"ticks\":\"\"},\"colorscale\":[[0.0,\"#0d0887\"],[0.1111111111111111,\"#46039f\"],[0.2222222222222222,\"#7201a8\"],[0.3333333333333333,\"#9c179e\"],[0.4444444444444444,\"#bd3786\"],[0.5555555555555556,\"#d8576b\"],[0.6666666666666666,\"#ed7953\"],[0.7777777777777778,\"#fb9f3a\"],[0.8888888888888888,\"#fdca26\"],[1.0,\"#f0f921\"]],\"type\":\"histogram2d\"}],\"histogram2dcontour\":[{\"colorbar\":{\"outlinewidth\":0,\"ticks\":\"\"},\"colorscale\":[[0.0,\"#0d0887\"],[0.1111111111111111,\"#46039f\"],[0.2222222222222222,\"#7201a8\"],[0.3333333333333333,\"#9c179e\"],[0.4444444444444444,\"#bd3786\"],[0.5555555555555556,\"#d8576b\"],[0.6666666666666666,\"#ed7953\"],[0.7777777777777778,\"#fb9f3a\"],[0.8888888888888888,\"#fdca26\"],[1.0,\"#f0f921\"]],\"type\":\"histogram2dcontour\"}],\"mesh3d\":[{\"colorbar\":{\"outlinewidth\":0,\"ticks\":\"\"},\"type\":\"mesh3d\"}],\"parcoords\":[{\"line\":{\"colorbar\":{\"outlinewidth\":0,\"ticks\":\"\"}},\"type\":\"parcoords\"}],\"pie\":[{\"automargin\":true,\"type\":\"pie\"}],\"scatter\":[{\"marker\":{\"colorbar\":{\"outlinewidth\":0,\"ticks\":\"\"}},\"type\":\"scatter\"}],\"scatter3d\":[{\"line\":{\"colorbar\":{\"outlinewidth\":0,\"ticks\":\"\"}},\"marker\":{\"colorbar\":{\"outlinewidth\":0,\"ticks\":\"\"}},\"type\":\"scatter3d\"}],\"scattercarpet\":[{\"marker\":{\"colorbar\":{\"outlinewidth\":0,\"ticks\":\"\"}},\"type\":\"scattercarpet\"}],\"scattergeo\":[{\"marker\":{\"colorbar\":{\"outlinewidth\":0,\"ticks\":\"\"}},\"type\":\"scattergeo\"}],\"scattergl\":[{\"marker\":{\"colorbar\":{\"outlinewidth\":0,\"ticks\":\"\"}},\"type\":\"scattergl\"}],\"scattermapbox\":[{\"marker\":{\"colorbar\":{\"outlinewidth\":0,\"ticks\":\"\"}},\"type\":\"scattermapbox\"}],\"scatterpolar\":[{\"marker\":{\"colorbar\":{\"outlinewidth\":0,\"ticks\":\"\"}},\"type\":\"scatterpolar\"}],\"scatterpolargl\":[{\"marker\":{\"colorbar\":{\"outlinewidth\":0,\"ticks\":\"\"}},\"type\":\"scatterpolargl\"}],\"scatterternary\":[{\"marker\":{\"colorbar\":{\"outlinewidth\":0,\"ticks\":\"\"}},\"type\":\"scatterternary\"}],\"surface\":[{\"colorbar\":{\"outlinewidth\":0,\"ticks\":\"\"},\"colorscale\":[[0.0,\"#0d0887\"],[0.1111111111111111,\"#46039f\"],[0.2222222222222222,\"#7201a8\"],[0.3333333333333333,\"#9c179e\"],[0.4444444444444444,\"#bd3786\"],[0.5555555555555556,\"#d8576b\"],[0.6666666666666666,\"#ed7953\"],[0.7777777777777778,\"#fb9f3a\"],[0.8888888888888888,\"#fdca26\"],[1.0,\"#f0f921\"]],\"type\":\"surface\"}],\"table\":[{\"cells\":{\"fill\":{\"color\":\"#EBF0F8\"},\"line\":{\"color\":\"white\"}},\"header\":{\"fill\":{\"color\":\"#C8D4E3\"},\"line\":{\"color\":\"white\"}},\"type\":\"table\"}]},\"layout\":{\"annotationdefaults\":{\"arrowcolor\":\"#2a3f5f\",\"arrowhead\":0,\"arrowwidth\":1},\"autotypenumbers\":\"strict\",\"coloraxis\":{\"colorbar\":{\"outlinewidth\":0,\"ticks\":\"\"}},\"colorscale\":{\"diverging\":[[0,\"#8e0152\"],[0.1,\"#c51b7d\"],[0.2,\"#de77ae\"],[0.3,\"#f1b6da\"],[0.4,\"#fde0ef\"],[0.5,\"#f7f7f7\"],[0.6,\"#e6f5d0\"],[0.7,\"#b8e186\"],[0.8,\"#7fbc41\"],[0.9,\"#4d9221\"],[1,\"#276419\"]],\"sequential\":[[0.0,\"#0d0887\"],[0.1111111111111111,\"#46039f\"],[0.2222222222222222,\"#7201a8\"],[0.3333333333333333,\"#9c179e\"],[0.4444444444444444,\"#bd3786\"],[0.5555555555555556,\"#d8576b\"],[0.6666666666666666,\"#ed7953\"],[0.7777777777777778,\"#fb9f3a\"],[0.8888888888888888,\"#fdca26\"],[1.0,\"#f0f921\"]],\"sequentialminus\":[[0.0,\"#0d0887\"],[0.1111111111111111,\"#46039f\"],[0.2222222222222222,\"#7201a8\"],[0.3333333333333333,\"#9c179e\"],[0.4444444444444444,\"#bd3786\"],[0.5555555555555556,\"#d8576b\"],[0.6666666666666666,\"#ed7953\"],[0.7777777777777778,\"#fb9f3a\"],[0.8888888888888888,\"#fdca26\"],[1.0,\"#f0f921\"]]},\"colorway\":[\"#636efa\",\"#EF553B\",\"#00cc96\",\"#ab63fa\",\"#FFA15A\",\"#19d3f3\",\"#FF6692\",\"#B6E880\",\"#FF97FF\",\"#FECB52\"],\"font\":{\"color\":\"#2a3f5f\"},\"geo\":{\"bgcolor\":\"white\",\"lakecolor\":\"white\",\"landcolor\":\"#E5ECF6\",\"showlakes\":true,\"showland\":true,\"subunitcolor\":\"white\"},\"hoverlabel\":{\"align\":\"left\"},\"hovermode\":\"closest\",\"mapbox\":{\"style\":\"light\"},\"paper_bgcolor\":\"white\",\"plot_bgcolor\":\"#E5ECF6\",\"polar\":{\"angularaxis\":{\"gridcolor\":\"white\",\"linecolor\":\"white\",\"ticks\":\"\"},\"bgcolor\":\"#E5ECF6\",\"radialaxis\":{\"gridcolor\":\"white\",\"linecolor\":\"white\",\"ticks\":\"\"}},\"scene\":{\"xaxis\":{\"backgroundcolor\":\"#E5ECF6\",\"gridcolor\":\"white\",\"gridwidth\":2,\"linecolor\":\"white\",\"showbackground\":true,\"ticks\":\"\",\"zerolinecolor\":\"white\"},\"yaxis\":{\"backgroundcolor\":\"#E5ECF6\",\"gridcolor\":\"white\",\"gridwidth\":2,\"linecolor\":\"white\",\"showbackground\":true,\"ticks\":\"\",\"zerolinecolor\":\"white\"},\"zaxis\":{\"backgroundcolor\":\"#E5ECF6\",\"gridcolor\":\"white\",\"gridwidth\":2,\"linecolor\":\"white\",\"showbackground\":true,\"ticks\":\"\",\"zerolinecolor\":\"white\"}},\"shapedefaults\":{\"line\":{\"color\":\"#2a3f5f\"}},\"ternary\":{\"aaxis\":{\"gridcolor\":\"white\",\"linecolor\":\"white\",\"ticks\":\"\"},\"baxis\":{\"gridcolor\":\"white\",\"linecolor\":\"white\",\"ticks\":\"\"},\"bgcolor\":\"#E5ECF6\",\"caxis\":{\"gridcolor\":\"white\",\"linecolor\":\"white\",\"ticks\":\"\"}},\"title\":{\"x\":0.05},\"xaxis\":{\"automargin\":true,\"gridcolor\":\"white\",\"linecolor\":\"white\",\"ticks\":\"\",\"title\":{\"standoff\":15},\"zerolinecolor\":\"white\",\"zerolinewidth\":2},\"yaxis\":{\"automargin\":true,\"gridcolor\":\"white\",\"linecolor\":\"white\",\"ticks\":\"\",\"title\":{\"standoff\":15},\"zerolinecolor\":\"white\",\"zerolinewidth\":2}}},\"xaxis\":{\"anchor\":\"y\",\"domain\":[0.0,0.235],\"title\":{\"text\":\"intera\\u00e7\\u00f5es\"}},\"yaxis\":{\"anchor\":\"x\",\"domain\":[0.0,1.0],\"title\":{\"text\":\"tempo (minutos)\"}},\"xaxis2\":{\"anchor\":\"y2\",\"domain\":[0.255,0.49],\"matches\":\"x\",\"title\":{\"text\":\"intera\\u00e7\\u00f5es\"}},\"yaxis2\":{\"anchor\":\"x2\",\"domain\":[0.0,1.0],\"matches\":\"y\",\"showticklabels\":false},\"xaxis3\":{\"anchor\":\"y3\",\"domain\":[0.51,0.745],\"matches\":\"x\",\"title\":{\"text\":\"intera\\u00e7\\u00f5es\"}},\"yaxis3\":{\"anchor\":\"x3\",\"domain\":[0.0,1.0],\"matches\":\"y\",\"showticklabels\":false},\"xaxis4\":{\"anchor\":\"y4\",\"domain\":[0.7649999999999999,0.9999999999999999],\"matches\":\"x\",\"title\":{\"text\":\"intera\\u00e7\\u00f5es\"}},\"yaxis4\":{\"anchor\":\"x4\",\"domain\":[0.0,1.0],\"matches\":\"y\",\"showticklabels\":false},\"annotations\":[{\"font\":{},\"showarrow\":false,\"text\":\"Bytes=1\",\"x\":0.1175,\"xanchor\":\"center\",\"xref\":\"paper\",\"y\":1.0,\"yanchor\":\"bottom\",\"yref\":\"paper\"},{\"font\":{},\"showarrow\":false,\"text\":\"Bytes=2\",\"x\":0.3725,\"xanchor\":\"center\",\"xref\":\"paper\",\"y\":1.0,\"yanchor\":\"bottom\",\"yref\":\"paper\"},{\"font\":{},\"showarrow\":false,\"text\":\"Bytes=3\",\"x\":0.6275,\"xanchor\":\"center\",\"xref\":\"paper\",\"y\":1.0,\"yanchor\":\"bottom\",\"yref\":\"paper\"},{\"font\":{},\"showarrow\":false,\"text\":\"Bytes=4\",\"x\":0.8824999999999998,\"xanchor\":\"center\",\"xref\":\"paper\",\"y\":1.0,\"yanchor\":\"bottom\",\"yref\":\"paper\"}],\"legend\":{\"title\":{\"text\":\"Classe\"},\"tracegroupgap\":0},\"title\":{\"text\":\"Tempo de Execu\\u00e7\\u00e3o de Concatena\\u00e7\\u00e3o por Quantidade de Bytes entre as Classes String, StringBuffer e StringBuilder\"},\"barmode\":\"group\"},                        {\"responsive\": true}                    ).then(function(){\n",
              "                            \n",
              "var gd = document.getElementById('8b9d0500-b779-4dc1-9ab4-60f1de73781f');\n",
              "var x = new MutationObserver(function (mutations, observer) {{\n",
              "        var display = window.getComputedStyle(gd).display;\n",
              "        if (!display || display === 'none') {{\n",
              "            console.log([gd, 'removed!']);\n",
              "            Plotly.purge(gd);\n",
              "            observer.disconnect();\n",
              "        }}\n",
              "}});\n",
              "\n",
              "// Listen for the removal of the full notebook cells\n",
              "var notebookContainer = gd.closest('#notebook-container');\n",
              "if (notebookContainer) {{\n",
              "    x.observe(notebookContainer, {childList: true});\n",
              "}}\n",
              "\n",
              "// Listen for the clearing of the current output cell\n",
              "var outputEl = gd.closest('.output');\n",
              "if (outputEl) {{\n",
              "    x.observe(outputEl, {childList: true});\n",
              "}}\n",
              "\n",
              "                        })                };                            </script>        </div>\n",
              "</body>\n",
              "</html>"
            ]
          },
          "metadata": {}
        }
      ]
    },
    {
      "cell_type": "markdown",
      "source": [
        "Referencias:\n",
        "\n",
        "[1]Bar Charts in Python: https://plotly.com/python/bar-charts/\n",
        "\n",
        "[2] “convert milliseconds to hours minutes seconds”: https://www.codegrepper.com/code-examples/whatever/convert+milliseconds+to+hours+minutes+seconds\n",
        "\n",
        "[3] Diferenças entre String, StringBuilder e StringBuffer em Java: https://www.devmedia.com.br/diferencas-entre-string-stringbuilder-e-stringbuffer-em-java/29865"
      ],
      "metadata": {
        "id": "tnKkg8EQiHyr"
      }
    }
  ]
}